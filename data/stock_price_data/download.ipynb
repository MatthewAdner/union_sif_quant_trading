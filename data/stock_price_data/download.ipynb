{
 "cells": [
  {
   "cell_type": "code",
   "execution_count": 1,
   "metadata": {},
   "outputs": [],
   "source": [
    "import yfinance as yf\n",
    "import pandas as pd"
   ]
  },
  {
   "cell_type": "code",
   "execution_count": 2,
   "metadata": {},
   "outputs": [],
   "source": [
    "all_tickers = pd.read_csv('allTickers.csv')\n",
    "all_tickers_list = list(all_tickers['tickers'])"
   ]
  },
  {
   "cell_type": "code",
   "execution_count": 3,
   "metadata": {},
   "outputs": [
    {
     "name": "stderr",
     "output_type": "stream",
     "text": [
      "[*********************100%***********************]  6328 of 6328 completed\n",
      "\n",
      "327 Failed downloads:\n",
      "['FNVTW', 'FLDDW', 'FUFUW', 'PCTTW', 'DTSTW', 'SWAGW', 'ECDAW', 'ABVEW', 'DAVEW', 'AUROW', 'LFLYW', 'KDLYW', 'AIRJW', 'KVACW', 'LTRYW', 'ZEOWW', 'BSLKW', 'RGTIW', 'LCFYW', 'QSIAW', 'SBFMW', 'SLDPW', 'FGIWW', 'DHAIW', 'DUETW', 'BOCNW', 'MRNOW', 'HOLOW', 'SCLXW', 'LNZAW', 'PWUPW', 'ICUCW', 'BNAIW', 'TBLAW', 'AIMDW', 'WGSWW', 'NXGLW', 'AVPTW', 'NKGNW', 'CORZZ', 'AGBAW', 'HUBCZ', 'IXAQW', 'HHGCW', 'GGROW', 'NVNIW', 'CIFRW', 'CREVW', 'RMCOW', 'RCRTW', 'EDBLW', 'DPCSW', 'PLAOW', 'SWVLW', 'BCSAW', 'BEATW', 'KPLTW', 'PXSAW', 'CURIW', 'LGHLW', 'PIIIW', 'ECXWW', 'PPYAW', 'NRXPW', 'SDAWW', 'OABIW', 'ALCYW', 'WESTW', 'COOTW', 'DSYWW', 'SLXNW', 'BTMWW', 'LSBPW', 'COEPW', 'THCPW', 'NIVFW', 'ISRLW', 'IVCBW', 'PETWW', 'SPKLW', 'BTCTW', 'ACONW', 'LIFWZ', 'VRMEW', 'VEEAW', 'RZLVW', 'SATLW', 'AENTW', 'PRENW', 'ADSEW', 'MVSTW', 'XOSWW', 'AILEW', 'SBCWW', 'SHFSW', 'FATBW', 'BCGWW', 'ZOOZW', 'NVAWW', 'SAIHW', 'GRDIW', 'RVMDW', 'XBPEW', 'GFAIW', 'MKDWW', 'UHGWW', 'FORLW', 'BCTXW', 'NRSNW', 'IMTXW', 'CPTNW', 'SVIIW', 'SYTAW', 'USGOW', 'GIGGW', 'SABSW', 'GBBKW', 'CXAIW', 'LSEAW', 'LPAAW', 'BLEUW', 'CDROW', 'JFBRW', 'GHIXW', 'NETDW', 'LEXXW', 'CORZW', 'RVPHW', 'VGASW', 'SNAXW', 'LDTCW', 'ARBEW', 'NNAVW', 'MTEKW', 'WLDSW', 'FFIEW', 'BHACW', 'TALKW', 'CFFSW', 'VSTEW', 'ASTLW', 'SMXWW', 'AUUDW', 'BZFDW', 'NVVEW', 'CEADW', 'ANGHW', 'NIOBW', 'ESGLW', 'INVZW', 'AREBW', 'ARKOW', 'FIACW', 'RELIW', 'GPATW', 'MSAIW', 'UKOMW', 'PBMWW', 'AERTW', 'BFRIW', 'RDZNW', 'ZPTAW', 'GOVXW', 'HTZWW', 'PTIXW', 'KWESW', 'SVMHW', 'BIAFW', 'LUNRW', 'FAASW', 'PAVMZ', 'RCKTW', 'MLECW', 'ONFOW', 'CRGOW', 'VSEEW', 'FMSTW', 'AEAEW', 'HPAIW', 'CMAXW', 'DHCNL', 'JSPRW', 'ATNFW', 'CGBSW', 'BFRGW', 'ATMCW', 'NPABW', 'BNIXW', 'AISPW', 'HUMAW', 'TCBPW', 'IGTAW', 'HOVRW', 'SIMAW', 'FBYDW', 'CUBWW', 'NWTNW', 'GSMGW', 'TVGNW', 'PITAW', 'IPXXW', 'KLTOW', 'KITTW', 'HYMCW', 'EVLVW', 'MDAIW', 'SXTPW', 'BAERW', 'CINGW', 'SURGW', 'ABLLW', 'BRLSW', 'SHMDW', 'EVGRW', 'GTACW', 'ANSCW', 'KTTAW', 'BRKHW', 'MAPSW', 'HYZNW', 'SHOTW', 'CRESW', 'ESLAW', 'MSSAW', 'CSLRW', 'CLNNW', 'REVBW', 'BUJAW', 'ADNWW', 'DBGIW', 'MNTSW', 'SVREW', 'MBAVW', 'ASTSW', 'ZAPPW', 'TNONW', 'IVCPW', 'TOIIW', 'PROCW', 'BTBDW', 'ADVWW', 'LVROW', 'DRTSW', 'SOUNW', 'TGAAW', 'BLDEW', 'OPTXW', 'MACIW', 'FTIIW', 'IVDAW', 'SQFTW', 'IROHW', 'RVSNW', 'XFINW', 'RUMBW', 'DFLIW', 'ROCLW', 'GCMGW', 'TLGYW', 'MITAW', 'NXPLW', 'CEROW', 'SRZNW', 'BYNOW', 'ZCARW', 'CMPOW', 'AFRIW', 'BETRW', 'GRRRW', 'BROGW', 'OCSAW', 'HCVIW', 'NMHIW', 'HSCSW', 'STSSW', 'EUDAW', 'BENFW', 'ALVOW', 'CELUW', 'DRMAW', 'BNZIW', 'ALFUW', 'SONDW', 'HAIAW', 'HUBCW', 'SDSTW', 'ORGNW', 'LOTWW', 'HOFVW', 'ODVWZ', 'PFTAW', 'CRMLW', 'OCEAW', 'CDIOW', 'GOEVW']: YFInvalidPeriodError(\"%ticker%: Period 'max' is invalid, must be one of ['1d', '5d']\")\n",
      "['BRACR', 'IROHR', 'BML', 'ATMCR', 'HSPOR', 'WINVR', 'ICR', 'ANG', 'CLRCR', 'MER', 'EAI', 'WTMAR', 'BOWNR', 'GBBKR', 'BUJAR', 'NVACR', 'BLEUR', 'SFB', 'ESHAR', 'KACLR', 'RFAIR', 'EURKR', 'AITRR', 'SVIIR', 'ETI', 'GECCZ', 'IBACR', 'GDSTR', 'GLSTR', 'EMP', 'SCE', 'ALSAR']: YFPricesMissingError('$%ticker%: possibly delisted; no price data found  (1d 1925-10-25 -> 2024-09-30)')\n"
     ]
    }
   ],
   "source": [
    "stock_data = yf.download(all_tickers_list,period='max')"
   ]
  },
  {
   "cell_type": "code",
   "execution_count": 4,
   "metadata": {},
   "outputs": [],
   "source": [
    "stock_data = stock_data.rename(columns={'Adj Close':'Adj_Close'})\n",
    "stock_data.index = stock_data.index.tz_localize(None)"
   ]
  },
  {
   "cell_type": "code",
   "execution_count": 5,
   "metadata": {},
   "outputs": [
    {
     "ename": "",
     "evalue": "",
     "output_type": "error",
     "traceback": [
      "\u001b[1;31mThe Kernel crashed while executing code in the current cell or a previous cell. \n",
      "\u001b[1;31mPlease review the code in the cell(s) to identify a possible cause of the failure. \n",
      "\u001b[1;31mClick <a href='https://aka.ms/vscodeJupyterKernelCrash'>here</a> for more info. \n",
      "\u001b[1;31mView Jupyter <a href='command:jupyter.viewOutput'>log</a> for further details."
     ]
    }
   ],
   "source": [
    "stock_data.to_pickle('all_ata.pkl')"
   ]
  },
  {
   "cell_type": "code",
   "execution_count": null,
   "metadata": {},
   "outputs": [],
   "source": []
  }
 ],
 "metadata": {
  "kernelspec": {
   "display_name": "Python 3",
   "language": "python",
   "name": "python3"
  },
  "language_info": {
   "codemirror_mode": {
    "name": "ipython",
    "version": 3
   },
   "file_extension": ".py",
   "mimetype": "text/x-python",
   "name": "python",
   "nbconvert_exporter": "python",
   "pygments_lexer": "ipython3",
   "version": "3.12.6"
  }
 },
 "nbformat": 4,
 "nbformat_minor": 2
}
